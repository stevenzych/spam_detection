{
 "cells": [
  {
   "cell_type": "markdown",
   "metadata": {},
   "source": [
    "# Introduction (Unfinished)\n",
    "\n",
    "***This notebook builds the game, introduction unfinished....***"
   ]
  },
  {
   "cell_type": "markdown",
   "metadata": {},
   "source": [
    "# Libraries"
   ]
  },
  {
   "cell_type": "code",
   "execution_count": 12,
   "metadata": {
    "scrolled": true
   },
   "outputs": [],
   "source": [
    "import numpy as np\n",
    "\n",
    "import keras\n",
    "import keras.utils\n",
    "from keras.preprocessing.text import Tokenizer\n",
    "from keras.preprocessing.sequence import pad_sequences\n",
    "\n",
    "import pickle"
   ]
  },
  {
   "cell_type": "markdown",
   "metadata": {},
   "source": [
    "## Importing Objects"
   ]
  },
  {
   "cell_type": "code",
   "execution_count": 13,
   "metadata": {},
   "outputs": [],
   "source": [
    "# Load trained model\n",
    "model = keras.models.load_model('models/base_model')\n",
    "\n",
    "# Load fit tokenizer\n",
    "with open('models/tokenizer_train.pickle', 'rb') as f:\n",
    "    tokenizer = pickle.load(f)"
   ]
  },
  {
   "cell_type": "markdown",
   "metadata": {},
   "source": [
    "# Game Elements (Unfinished)\n",
    "\n",
    "A couple of elements must be defined to be built into the game. Namely, we need a function that tokenizes, casts as array, and pads any text inputs from users. This is to ensure that any inputs into the game take the same form as the inputs did into the neural network.\n",
    "\n",
    "***Other functionality brief summaries...***"
   ]
  },
  {
   "cell_type": "markdown",
   "metadata": {},
   "source": [
    "## `predict()` Function"
   ]
  },
  {
   "cell_type": "code",
   "execution_count": 43,
   "metadata": {},
   "outputs": [],
   "source": [
    "def predict(user_input):\n",
    "    '''\n",
    "    Takes in user string input and predicts whether or not it is spam.\n",
    "    Outputs an array where position 0 indicates not-spam and position 1\n",
    "    indicates spam, based on value of number.\n",
    "    ---\n",
    "    user_input\n",
    "        String of any length.\n",
    "    '''\n",
    "    X = tokenizer.texts_to_sequences([user_input])\n",
    "    X = np.array(X)\n",
    "    X = pad_sequences(X, maxlen=100)\n",
    "    return model.predict(X)"
   ]
  },
  {
   "cell_type": "code",
   "execution_count": 44,
   "metadata": {},
   "outputs": [
    {
     "data": {
      "text/plain": [
       "array([[9.994553e-01, 5.447551e-04]], dtype=float32)"
      ]
     },
     "execution_count": 44,
     "metadata": {},
     "output_type": "execute_result"
    }
   ],
   "source": [
    "# Example of not-spam prediction\n",
    "predict(\"This is a test to predict on. I don't think it's be spam.\")"
   ]
  },
  {
   "cell_type": "markdown",
   "metadata": {},
   "source": [
    "## `Player` Class"
   ]
  },
  {
   "cell_type": "code",
   "execution_count": 55,
   "metadata": {},
   "outputs": [],
   "source": [
    "class Player:\n",
    "    '''\n",
    "    Class represents one player in the spame game. Acts to track their\n",
    "    score and unique number ID.\n",
    "    ---\n",
    "    number\n",
    "        Int. Player's unique identifier.\n",
    "    score\n",
    "        How many points a player begins with. Defaults to 0.\n",
    "    '''\n",
    "    def __init__(self, number):\n",
    "        self.number = int(number)\n",
    "        self.score = 0"
   ]
  },
  {
   "cell_type": "code",
   "execution_count": 56,
   "metadata": {},
   "outputs": [
    {
     "name": "stdout",
     "output_type": "stream",
     "text": [
      "0\n",
      "15\n"
     ]
    }
   ],
   "source": [
    "# Example of a player being instantiated and gaining points\n",
    "p1 = Player(number = 1)\n",
    "print(p1.score)\n",
    "p1.score += 15\n",
    "print(p1.score)"
   ]
  },
  {
   "cell_type": "markdown",
   "metadata": {},
   "source": [
    "## `game_round()` Function (Unfinished)\n",
    "\n",
    "The following function simulates a single round of play. It makes the final `spam_game()` function much cleaner to read and edit."
   ]
  },
  {
   "cell_type": "code",
   "execution_count": 57,
   "metadata": {},
   "outputs": [],
   "source": [
    "def game_round():\n",
    "# Take in user inputs for round\n",
    "    p1_attempt = input(\"Player 1 attempt: \")\n",
    "    p2_attempt = input(\"Player 2 attempt: \")\n",
    "# Score user inputs\n",
    "    p1_pred = predict(p1_attempt)\n",
    "    p2_pred = predict(p2_attempt)\n",
    "# Erase score if it is predicted spam \n",
    "    for i in [p1_pred[0][1], p2_pred[0][1]]:\n",
    "        if i > 0.5:\n",
    "            pl\n",
    "# Compare inputs\n"
   ]
  },
  {
   "cell_type": "markdown",
   "metadata": {},
   "source": [
    "# The Spam-Detection Game (Unfinished)\n",
    "\n",
    "Now we can assemble all the previously-built parts into a single executable function that runs the entire game."
   ]
  },
  {
   "cell_type": "code",
   "execution_count": 51,
   "metadata": {},
   "outputs": [],
   "source": [
    "def spam_game():\n",
    "    None"
   ]
  }
 ],
 "metadata": {
  "kernelspec": {
   "display_name": "Python [conda env:learn-env] *",
   "language": "python",
   "name": "conda-env-learn-env-py"
  },
  "language_info": {
   "codemirror_mode": {
    "name": "ipython",
    "version": 3
   },
   "file_extension": ".py",
   "mimetype": "text/x-python",
   "name": "python",
   "nbconvert_exporter": "python",
   "pygments_lexer": "ipython3",
   "version": "3.6.9"
  },
  "toc": {
   "base_numbering": 1,
   "nav_menu": {},
   "number_sections": true,
   "sideBar": true,
   "skip_h1_title": false,
   "title_cell": "Table of Contents",
   "title_sidebar": "Contents",
   "toc_cell": false,
   "toc_position": {},
   "toc_section_display": true,
   "toc_window_display": false
  },
  "varInspector": {
   "cols": {
    "lenName": 16,
    "lenType": 16,
    "lenVar": 40
   },
   "kernels_config": {
    "python": {
     "delete_cmd_postfix": "",
     "delete_cmd_prefix": "del ",
     "library": "var_list.py",
     "varRefreshCmd": "print(var_dic_list())"
    },
    "r": {
     "delete_cmd_postfix": ") ",
     "delete_cmd_prefix": "rm(",
     "library": "var_list.r",
     "varRefreshCmd": "cat(var_dic_list()) "
    }
   },
   "types_to_exclude": [
    "module",
    "function",
    "builtin_function_or_method",
    "instance",
    "_Feature"
   ],
   "window_display": false
  }
 },
 "nbformat": 4,
 "nbformat_minor": 2
}
