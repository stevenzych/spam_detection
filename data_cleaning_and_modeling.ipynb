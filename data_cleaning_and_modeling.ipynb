{
 "cells": [
  {
   "cell_type": "markdown",
   "metadata": {},
   "source": [
    "# Introduction (Unfinished)\n",
    "\n",
    "This notebook imports, verifies, and preprocesses the spam email data. It then models on this data using ***X, Y, Z ...***"
   ]
  },
  {
   "cell_type": "markdown",
   "metadata": {},
   "source": [
    "# Libraries"
   ]
  },
  {
   "cell_type": "code",
   "execution_count": 12,
   "metadata": {},
   "outputs": [],
   "source": [
    "import pandas as pd\n",
    "import numpy as np\n",
    "\n",
    "from keras.preprocessing.text import Tokenizer\n",
    "from keras.preprocessing.sequence import pad_sequences\n",
    "import keras.utils\n",
    "from keras.models import Sequential\n",
    "from keras.layers import Input, Dense, LSTM, Embedding\n",
    "from keras.layers import Dropout, Activation, Bidirectional, GlobalMaxPool1D, GlobalAveragePooling1D\n",
    "from keras import initializers, regularizers, constraints, optimizers, layers\n",
    "\n",
    "import pickle\n",
    "\n",
    "import matplotlib.pyplot as plt\n",
    "%matplotlib inline"
   ]
  },
  {
   "cell_type": "markdown",
   "metadata": {},
   "source": [
    "# Import Data"
   ]
  },
  {
   "cell_type": "code",
   "execution_count": 2,
   "metadata": {},
   "outputs": [],
   "source": [
    "df_train = pd.read_csv('data/SMS_train.csv', encoding = 'latin1')\n",
    "df_test = pd.read_csv('data/SMS_test.csv', encoding='latin1')"
   ]
  },
  {
   "cell_type": "code",
   "execution_count": 3,
   "metadata": {},
   "outputs": [
    {
     "data": {
      "text/html": [
       "<div>\n",
       "<style scoped>\n",
       "    .dataframe tbody tr th:only-of-type {\n",
       "        vertical-align: middle;\n",
       "    }\n",
       "\n",
       "    .dataframe tbody tr th {\n",
       "        vertical-align: top;\n",
       "    }\n",
       "\n",
       "    .dataframe thead th {\n",
       "        text-align: right;\n",
       "    }\n",
       "</style>\n",
       "<table border=\"1\" class=\"dataframe\">\n",
       "  <thead>\n",
       "    <tr style=\"text-align: right;\">\n",
       "      <th></th>\n",
       "      <th>S. No.</th>\n",
       "      <th>Message_body</th>\n",
       "      <th>Label</th>\n",
       "    </tr>\n",
       "  </thead>\n",
       "  <tbody>\n",
       "    <tr>\n",
       "      <td>0</td>\n",
       "      <td>1</td>\n",
       "      <td>UpgrdCentre Orange customer, you may now claim...</td>\n",
       "      <td>Spam</td>\n",
       "    </tr>\n",
       "    <tr>\n",
       "      <td>1</td>\n",
       "      <td>2</td>\n",
       "      <td>Loan for any purpose £500 - £75,000. Homeowner...</td>\n",
       "      <td>Spam</td>\n",
       "    </tr>\n",
       "    <tr>\n",
       "      <td>2</td>\n",
       "      <td>3</td>\n",
       "      <td>Congrats! Nokia 3650 video camera phone is you...</td>\n",
       "      <td>Spam</td>\n",
       "    </tr>\n",
       "    <tr>\n",
       "      <td>3</td>\n",
       "      <td>4</td>\n",
       "      <td>URGENT! Your Mobile number has been awarded wi...</td>\n",
       "      <td>Spam</td>\n",
       "    </tr>\n",
       "    <tr>\n",
       "      <td>4</td>\n",
       "      <td>5</td>\n",
       "      <td>Someone has contacted our dating service and e...</td>\n",
       "      <td>Spam</td>\n",
       "    </tr>\n",
       "  </tbody>\n",
       "</table>\n",
       "</div>"
      ],
      "text/plain": [
       "   S. No.                                       Message_body Label\n",
       "0       1  UpgrdCentre Orange customer, you may now claim...  Spam\n",
       "1       2  Loan for any purpose £500 - £75,000. Homeowner...  Spam\n",
       "2       3  Congrats! Nokia 3650 video camera phone is you...  Spam\n",
       "3       4  URGENT! Your Mobile number has been awarded wi...  Spam\n",
       "4       5  Someone has contacted our dating service and e...  Spam"
      ]
     },
     "execution_count": 3,
     "metadata": {},
     "output_type": "execute_result"
    }
   ],
   "source": [
    "df_test.head()"
   ]
  },
  {
   "cell_type": "code",
   "execution_count": 4,
   "metadata": {},
   "outputs": [
    {
     "data": {
      "text/html": [
       "<div>\n",
       "<style scoped>\n",
       "    .dataframe tbody tr th:only-of-type {\n",
       "        vertical-align: middle;\n",
       "    }\n",
       "\n",
       "    .dataframe tbody tr th {\n",
       "        vertical-align: top;\n",
       "    }\n",
       "\n",
       "    .dataframe thead th {\n",
       "        text-align: right;\n",
       "    }\n",
       "</style>\n",
       "<table border=\"1\" class=\"dataframe\">\n",
       "  <thead>\n",
       "    <tr style=\"text-align: right;\">\n",
       "      <th></th>\n",
       "      <th>S. No.</th>\n",
       "      <th>Message_body</th>\n",
       "      <th>Label</th>\n",
       "    </tr>\n",
       "  </thead>\n",
       "  <tbody>\n",
       "    <tr>\n",
       "      <td>0</td>\n",
       "      <td>1</td>\n",
       "      <td>Rofl. Its true to its name</td>\n",
       "      <td>Non-Spam</td>\n",
       "    </tr>\n",
       "    <tr>\n",
       "      <td>1</td>\n",
       "      <td>2</td>\n",
       "      <td>The guy did some bitching but I acted like i'd...</td>\n",
       "      <td>Non-Spam</td>\n",
       "    </tr>\n",
       "    <tr>\n",
       "      <td>2</td>\n",
       "      <td>3</td>\n",
       "      <td>Pity, * was in mood for that. So...any other s...</td>\n",
       "      <td>Non-Spam</td>\n",
       "    </tr>\n",
       "    <tr>\n",
       "      <td>3</td>\n",
       "      <td>4</td>\n",
       "      <td>Will ü b going to esplanade fr home?</td>\n",
       "      <td>Non-Spam</td>\n",
       "    </tr>\n",
       "    <tr>\n",
       "      <td>4</td>\n",
       "      <td>5</td>\n",
       "      <td>This is the 2nd time we have tried 2 contact u...</td>\n",
       "      <td>Spam</td>\n",
       "    </tr>\n",
       "  </tbody>\n",
       "</table>\n",
       "</div>"
      ],
      "text/plain": [
       "   S. No.                                       Message_body     Label\n",
       "0       1                         Rofl. Its true to its name  Non-Spam\n",
       "1       2  The guy did some bitching but I acted like i'd...  Non-Spam\n",
       "2       3  Pity, * was in mood for that. So...any other s...  Non-Spam\n",
       "3       4               Will ü b going to esplanade fr home?  Non-Spam\n",
       "4       5  This is the 2nd time we have tried 2 contact u...      Spam"
      ]
     },
     "execution_count": 4,
     "metadata": {},
     "output_type": "execute_result"
    }
   ],
   "source": [
    "df_train.head()"
   ]
  },
  {
   "cell_type": "markdown",
   "metadata": {},
   "source": [
    "## Check Data Types\n",
    "\n",
    "Checking that every entry is non-null and a string."
   ]
  },
  {
   "cell_type": "code",
   "execution_count": 5,
   "metadata": {},
   "outputs": [
    {
     "name": "stdout",
     "output_type": "stream",
     "text": [
      "<class 'pandas.core.frame.DataFrame'>\n",
      "RangeIndex: 125 entries, 0 to 124\n",
      "Data columns (total 3 columns):\n",
      "S. No.          125 non-null int64\n",
      "Message_body    125 non-null object\n",
      "Label           125 non-null object\n",
      "dtypes: int64(1), object(2)\n",
      "memory usage: 3.1+ KB\n",
      "None \n",
      "\n",
      "\n",
      "S. No.          0\n",
      "Message_body    0\n",
      "Label           0\n",
      "dtype: int64\n"
     ]
    }
   ],
   "source": [
    "print(df_test.info(), \"\\n\\n\")\n",
    "print(df_test.isna().sum())"
   ]
  },
  {
   "cell_type": "code",
   "execution_count": 6,
   "metadata": {},
   "outputs": [
    {
     "name": "stdout",
     "output_type": "stream",
     "text": [
      "<class 'pandas.core.frame.DataFrame'>\n",
      "RangeIndex: 957 entries, 0 to 956\n",
      "Data columns (total 3 columns):\n",
      "S. No.          957 non-null int64\n",
      "Message_body    957 non-null object\n",
      "Label           957 non-null object\n",
      "dtypes: int64(1), object(2)\n",
      "memory usage: 22.6+ KB\n",
      "None \n",
      "\n",
      "\n",
      "S. No.          0\n",
      "Message_body    0\n",
      "Label           0\n",
      "dtype: int64\n"
     ]
    }
   ],
   "source": [
    "print(df_train.info(), \"\\n\\n\")\n",
    "print(df_train.isna().sum())"
   ]
  },
  {
   "cell_type": "markdown",
   "metadata": {},
   "source": [
    "Everything looks good to go."
   ]
  },
  {
   "cell_type": "markdown",
   "metadata": {},
   "source": [
    "## Investigate `\"S. No.\"` Column"
   ]
  },
  {
   "cell_type": "code",
   "execution_count": 7,
   "metadata": {},
   "outputs": [
    {
     "data": {
      "text/plain": [
       "0      True\n",
       "1      True\n",
       "2      True\n",
       "3      True\n",
       "4      True\n",
       "       ... \n",
       "952    True\n",
       "953    True\n",
       "954    True\n",
       "955    True\n",
       "956    True\n",
       "Length: 957, dtype: bool"
      ]
     },
     "execution_count": 7,
     "metadata": {},
     "output_type": "execute_result"
    }
   ],
   "source": [
    "df_train['S. No.'] == df_train.index + 1"
   ]
  },
  {
   "cell_type": "markdown",
   "metadata": {},
   "source": [
    "The column in question was just a manual index, starting at 1. Since Pandas gives us an index already, and it starts at `0`, we can drop `\"S. No.\"`."
   ]
  },
  {
   "cell_type": "code",
   "execution_count": 8,
   "metadata": {},
   "outputs": [],
   "source": [
    "df_train.drop('S. No.', axis = 1, inplace = True)\n",
    "df_test.drop('S. No.', axis = 1, inplace = True)"
   ]
  },
  {
   "cell_type": "markdown",
   "metadata": {},
   "source": [
    "# Prepare Data For Modeling\n",
    "\n",
    "## Prepare Email Message Content\n",
    "\n",
    "Since the data is strings made of space-separated words, we need to first tokenize it. This gives us lists of integers corresponding to words-in-order. These lists are turned into arrays and padded, so that they are uniform in length."
   ]
  },
  {
   "cell_type": "code",
   "execution_count": 9,
   "metadata": {},
   "outputs": [
    {
     "data": {
      "text/plain": [
       "'REMINDER FROM O2: To get 2.50 pounds free call credit and details of great offers pls reply 2 this text with your valid name, house no and postcode'"
      ]
     },
     "execution_count": 9,
     "metadata": {},
     "output_type": "execute_result"
    }
   ],
   "source": [
    "# Example in\n",
    "df_train['Message_body'][5]"
   ]
  },
  {
   "cell_type": "code",
   "execution_count": 13,
   "metadata": {},
   "outputs": [],
   "source": [
    "# Instantiate and fit a Tokenizer on the training messages\n",
    "tokenizer = Tokenizer()\n",
    "tokenizer.fit_on_texts(df_train['Message_body'])\n",
    "X_train = tokenizer.texts_to_sequences(df_train['Message_body'])\n",
    "X_train = np.array(X_train)\n",
    "X_train = pad_sequences(X_train, maxlen=100)\n",
    "with open('models/tokenizer_train.pickle', 'wb') as f:\n",
    "    pickle.dump(tokenizer, f, protocol=pickle.HIGHEST_PROTOCOL)\n",
    "\n",
    "# Do same for testing messages\n",
    "tokenizer = Tokenizer()\n",
    "tokenizer.fit_on_texts(df_test['Message_body'])\n",
    "X_test = tokenizer.texts_to_sequences(df_test['Message_body'])\n",
    "X_test = np.array(X_test)\n",
    "X_test = pad_sequences(X_test, maxlen=100)\n",
    "with open('models/tokenizer_test.pickle', 'wb') as f:\n",
    "    pickle.dump(tokenizer, f, protocol=pickle.HIGHEST_PROTOCOL)"
   ]
  },
  {
   "cell_type": "code",
   "execution_count": 11,
   "metadata": {
    "scrolled": true
   },
   "outputs": [
    {
     "name": "stdout",
     "output_type": "stream",
     "text": [
      "[   0    0    0    0    0    0    0    0    0    0    0    0    0    0\n",
      "    0    0    0    0    0    0    0    0    0    0    0    0    0    0\n",
      "    0    0    0    0    0    0    0    0    0    0    0    0    0    0\n",
      "    0    0    0    0    0    0    0    0    0    0    0    0    0    0\n",
      "    0    0    0    0    0    0    0    0    0    0    0    0    0    0\n",
      "    0 1341   42  510    2   30   17  255  511   46   15  836    9  322\n",
      "   18  109  632   69  116   17   41   99   31   13  368  254  228   37\n",
      "    9 1342]\n"
     ]
    }
   ],
   "source": [
    "# Example out\n",
    "print(X_train[5])"
   ]
  },
  {
   "cell_type": "markdown",
   "metadata": {},
   "source": [
    "## Prepare Email Labels\n",
    "\n",
    "Printed below is an example (read: reminder) that we just have two categories here. They will be converted to integers and then to categoricals, i.e. `\"Non-Spam\"` --> `0` --> `[1, 0]` and vice versa."
   ]
  },
  {
   "cell_type": "code",
   "execution_count": 12,
   "metadata": {},
   "outputs": [
    {
     "data": {
      "text/plain": [
       "0    Non-Spam\n",
       "1    Non-Spam\n",
       "2    Non-Spam\n",
       "3    Non-Spam\n",
       "4        Spam\n",
       "5        Spam\n",
       "Name: Label, dtype: object"
      ]
     },
     "execution_count": 12,
     "metadata": {},
     "output_type": "execute_result"
    }
   ],
   "source": [
    "# Label example\n",
    "df_train['Label'].head(6)"
   ]
  },
  {
   "cell_type": "code",
   "execution_count": 13,
   "metadata": {},
   "outputs": [],
   "source": [
    "# Define int replacements\n",
    "label_dict = {\"Non-Spam\": 0, \"Spam\": 1}\n",
    "\n",
    "# Replace labels with int and pass to to_categorical()\n",
    "y_train = keras.utils.to_categorical(\n",
    "    [label_dict[label] for label in df_train['Label']])\n",
    "\n",
    "# Repeat for test labels\n",
    "y_test = keras.utils.to_categorical(\n",
    "    [label_dict[label] for label in df_test['Label']])"
   ]
  },
  {
   "cell_type": "code",
   "execution_count": 14,
   "metadata": {},
   "outputs": [
    {
     "name": "stdout",
     "output_type": "stream",
     "text": [
      "[[1. 0.]\n",
      " [1. 0.]\n",
      " [1. 0.]\n",
      " [1. 0.]\n",
      " [0. 1.]\n",
      " [0. 1.]]\n"
     ]
    }
   ],
   "source": [
    "# Finished example, matches above\n",
    "print(y_train[0:6])"
   ]
  },
  {
   "cell_type": "markdown",
   "metadata": {},
   "source": [
    "We now have our `X_train`, `X_test`, `y_train`, and `y_test` ready and can begin modeling."
   ]
  },
  {
   "cell_type": "markdown",
   "metadata": {},
   "source": [
    "# Baseline Model\n",
    "\n",
    "***Add reasoning for layer choices, explanation of `total_vocab` usage.***"
   ]
  },
  {
   "cell_type": "code",
   "execution_count": 31,
   "metadata": {},
   "outputs": [
    {
     "data": {
      "text/plain": [
       "4860"
      ]
     },
     "execution_count": 31,
     "metadata": {},
     "output_type": "execute_result"
    }
   ],
   "source": [
    "all_words = df_train['Message_body'].str.split() \n",
    "total_vocab = set(word for text in all_words for word in text)\n",
    "len(total_vocab)"
   ]
  },
  {
   "cell_type": "code",
   "execution_count": 42,
   "metadata": {},
   "outputs": [
    {
     "name": "stdout",
     "output_type": "stream",
     "text": [
      "Train on 765 samples, validate on 192 samples\n",
      "Epoch 1/20\n",
      "765/765 [==============================] - 3s 3ms/step - loss: 0.6163 - acc: 0.7987 - val_loss: 0.4983 - val_acc: 0.8802\n",
      "Epoch 2/20\n",
      "765/765 [==============================] - 2s 2ms/step - loss: 0.3951 - acc: 0.8706 - val_loss: 0.3057 - val_acc: 0.8802\n",
      "Epoch 3/20\n",
      "765/765 [==============================] - 2s 2ms/step - loss: 0.2572 - acc: 0.8706 - val_loss: 0.2102 - val_acc: 0.8802\n",
      "Epoch 4/20\n",
      "765/765 [==============================] - 2s 3ms/step - loss: 0.1327 - acc: 0.9556 - val_loss: 0.1105 - val_acc: 0.9635\n",
      "Epoch 5/20\n",
      "765/765 [==============================] - 2s 3ms/step - loss: 0.0466 - acc: 0.9948 - val_loss: 0.0689 - val_acc: 0.9792\n",
      "Epoch 6/20\n",
      "765/765 [==============================] - 2s 3ms/step - loss: 0.0169 - acc: 1.0000 - val_loss: 0.0563 - val_acc: 0.9792\n",
      "Epoch 7/20\n",
      "765/765 [==============================] - 2s 3ms/step - loss: 0.0084 - acc: 1.0000 - val_loss: 0.0521 - val_acc: 0.9792\n",
      "Epoch 8/20\n",
      "765/765 [==============================] - 2s 3ms/step - loss: 0.0052 - acc: 1.0000 - val_loss: 0.0514 - val_acc: 0.9844\n",
      "Epoch 9/20\n",
      "765/765 [==============================] - 2s 3ms/step - loss: 0.0036 - acc: 1.0000 - val_loss: 0.0524 - val_acc: 0.9792\n",
      "Epoch 10/20\n",
      "765/765 [==============================] - 2s 3ms/step - loss: 0.0027 - acc: 1.0000 - val_loss: 0.0507 - val_acc: 0.9792\n",
      "Epoch 11/20\n",
      "765/765 [==============================] - 2s 3ms/step - loss: 0.0021 - acc: 1.0000 - val_loss: 0.0508 - val_acc: 0.9792\n",
      "Epoch 12/20\n",
      "765/765 [==============================] - 2s 3ms/step - loss: 0.0017 - acc: 1.0000 - val_loss: 0.0512 - val_acc: 0.9792\n",
      "Epoch 13/20\n",
      "765/765 [==============================] - 2s 3ms/step - loss: 0.0014 - acc: 1.0000 - val_loss: 0.0517 - val_acc: 0.9792\n",
      "Epoch 14/20\n",
      "765/765 [==============================] - 2s 3ms/step - loss: 0.0012 - acc: 1.0000 - val_loss: 0.0527 - val_acc: 0.9792\n",
      "Epoch 15/20\n",
      "765/765 [==============================] - 2s 3ms/step - loss: 0.0010 - acc: 1.0000 - val_loss: 0.0549 - val_acc: 0.9792\n",
      "Epoch 16/20\n",
      "765/765 [==============================] - 2s 3ms/step - loss: 8.7310e-04 - acc: 1.0000 - val_loss: 0.0561 - val_acc: 0.9792\n",
      "Epoch 17/20\n",
      "765/765 [==============================] - 2s 3ms/step - loss: 7.6580e-04 - acc: 1.0000 - val_loss: 0.0524 - val_acc: 0.9792\n",
      "Epoch 18/20\n",
      "765/765 [==============================] - 2s 3ms/step - loss: 6.7791e-04 - acc: 1.0000 - val_loss: 0.0544 - val_acc: 0.9792\n",
      "Epoch 19/20\n",
      "765/765 [==============================] - 2s 3ms/step - loss: 6.0412e-04 - acc: 1.0000 - val_loss: 0.0561 - val_acc: 0.9792\n",
      "Epoch 20/20\n",
      "765/765 [==============================] - 2s 3ms/step - loss: 5.3423e-04 - acc: 1.0000 - val_loss: 0.0544 - val_acc: 0.9792\n"
     ]
    }
   ],
   "source": [
    "# Instantiate model\n",
    "base_model = Sequential()\n",
    "\n",
    "# Add model layers based on above rationale\n",
    "base_model.add(Embedding(len(total_vocab), 100))\n",
    "base_model.add(LSTM(8, return_sequences=True))\n",
    "base_model.add(GlobalMaxPool1D())\n",
    "base_model.add(Dense(25, activation='tanh'))\n",
    "base_model.add(Dense(2, activation='softmax'))\n",
    "\n",
    "# Compile model\n",
    "base_model.compile(loss='categorical_crossentropy',\n",
    "                   optimizer='Adam',\n",
    "                   metrics=['accuracy'])\n",
    "\n",
    "# Fit model and store results\n",
    "base_results = base_model.fit(X_train, y_train,\n",
    "                              epochs=20, batch_size=30,\n",
    "                              validation_split=0.2)"
   ]
  },
  {
   "cell_type": "code",
   "execution_count": 43,
   "metadata": {},
   "outputs": [],
   "source": [
    "# Helper function to visualize model performance over training\n",
    "def visualize_training_results(results):\n",
    "    history = results.history\n",
    "    plt.figure()\n",
    "    plt.plot(history['val_loss'])\n",
    "    plt.plot(history['loss'])\n",
    "    plt.legend(['val_loss', 'loss'])\n",
    "    plt.title('Loss')\n",
    "    plt.xlabel('Epochs')\n",
    "    plt.ylabel('Loss')\n",
    "    plt.show()\n",
    "    \n",
    "    plt.figure()\n",
    "    plt.plot(history['val_acc'])\n",
    "    plt.plot(history['acc'])\n",
    "    plt.legend(['val_acc', 'acc'])\n",
    "    plt.title('Accuracy')\n",
    "    plt.xlabel('Epochs')\n",
    "    plt.ylabel('Accuracy')\n",
    "    plt.show()"
   ]
  },
  {
   "cell_type": "code",
   "execution_count": 44,
   "metadata": {},
   "outputs": [
    {
     "data": {
      "image/png": "[encoded data removed]",
      "text/plain": [
       "<Figure size 432x288 with 1 Axes>"
      ]
     },
     "metadata": {
      "needs_background": "light"
     },
     "output_type": "display_data"
    },
    {
     "data": {
      "image/png": "[encoded data removed]",
      "text/plain": [
       "<Figure size 432x288 with 1 Axes>"
      ]
     },
     "metadata": {
      "needs_background": "light"
     },
     "output_type": "display_data"
    }
   ],
   "source": [
    "# Visualize baseline model performance\n",
    "visualize_training_results(base_results)"
   ]
  },
  {
   "cell_type": "markdown",
   "metadata": {},
   "source": [
    "I'm pleasantly surprised by the performance of this baseline architecture. The `acc` convergence to 100% accuracy suggests overfitting, and will be explored in later models. For now, this model will be saved and implemented in the educational game aspect of this project."
   ]
  },
  {
   "cell_type": "code",
   "execution_count": 45,
   "metadata": {},
   "outputs": [],
   "source": [
    "# Save the trained model\n",
    "base_model.save('models/base_model')"
   ]
  }
 ],
 "metadata": {
  "kernelspec": {
   "display_name": "Python 3",
   "language": "python",
   "name": "python3"
  },
  "language_info": {
   "codemirror_mode": {
    "name": "ipython",
    "version": 3
   },
   "file_extension": ".py",
   "mimetype": "text/x-python",
   "name": "python",
   "nbconvert_exporter": "python",
   "pygments_lexer": "ipython3",
   "version": "3.6.9"
  },
  "toc": {
   "base_numbering": 1,
   "nav_menu": {},
   "number_sections": true,
   "sideBar": true,
   "skip_h1_title": false,
   "title_cell": "Table of Contents",
   "title_sidebar": "Contents",
   "toc_cell": false,
   "toc_position": {},
   "toc_section_display": true,
   "toc_window_display": false
  },
  "varInspector": {
   "cols": {
    "lenName": 16,
    "lenType": 16,
    "lenVar": 40
   },
   "kernels_config": {
    "python": {
     "delete_cmd_postfix": "",
     "delete_cmd_prefix": "del ",
     "library": "var_list.py",
     "varRefreshCmd": "print(var_dic_list())"
    },
    "r": {
     "delete_cmd_postfix": ") ",
     "delete_cmd_prefix": "rm(",
     "library": "var_list.r",
     "varRefreshCmd": "cat(var_dic_list()) "
    }
   },
   "types_to_exclude": [
    "module",
    "function",
    "builtin_function_or_method",
    "instance",
    "_Feature"
   ],
   "window_display": false
  }
 },
 "nbformat": 4,
 "nbformat_minor": 4
}
