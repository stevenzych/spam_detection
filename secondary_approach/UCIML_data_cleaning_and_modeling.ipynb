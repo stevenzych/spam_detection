{
 "cells": [
  {
   "cell_type": "markdown",
   "metadata": {},
   "source": [
    "# Introduction - UCIML Data\n",
    "\n",
    "This notebook imports, verifies, and preprocesses the spam email data from the UCI Machine Learning dataset, accessible [here](https://www.kaggle.com/uciml/sms-spam-collection-dataset). A baseline model is then made, and compared to the original model made in the plain `data_cleaning_and_modeling.ipynb` notebook.\n",
    "\n",
    "> *Note: This notebook follows the same general procedures as the one mentioned above, but it is not identical.*"
   ]
  },
  {
   "cell_type": "markdown",
   "metadata": {},
   "source": [
    "# Libraries"
   ]
  },
  {
   "cell_type": "code",
   "execution_count": 1,
   "metadata": {},
   "outputs": [
    {
     "name": "stderr",
     "output_type": "stream",
     "text": [
      "Using TensorFlow backend.\n"
     ]
    }
   ],
   "source": [
    "import pandas as pd\n",
    "import numpy as np\n",
    "\n",
    "from keras.preprocessing.text import Tokenizer\n",
    "from keras.preprocessing.sequence import pad_sequences\n",
    "import keras.utils\n",
    "from keras.models import Sequential\n",
    "from keras.layers import Input, Dense, LSTM, Embedding\n",
    "from keras.layers import Dropout, Activation, Bidirectional, GlobalMaxPool1D, GlobalAveragePooling1D\n",
    "from keras import initializers, regularizers, constraints, optimizers, layers\n",
    "\n",
    "from sklearn.model_selection import train_test_split\n",
    "\n",
    "import pickle\n",
    "\n",
    "import matplotlib.pyplot as plt\n",
    "%matplotlib inline"
   ]
  },
  {
   "cell_type": "markdown",
   "metadata": {},
   "source": [
    "# Import Data\n",
    "\n",
    "First we import the CSV and make sure it looks normal, then drop the three useless columns."
   ]
  },
  {
   "cell_type": "code",
   "execution_count": 2,
   "metadata": {},
   "outputs": [],
   "source": [
    "df = pd.read_csv('../data/UCIML_spam.csv', encoding = 'latin1')"
   ]
  },
  {
   "cell_type": "code",
   "execution_count": 3,
   "metadata": {},
   "outputs": [
    {
     "data": {
      "text/html": [
       "<div>\n",
       "<style scoped>\n",
       "    .dataframe tbody tr th:only-of-type {\n",
       "        vertical-align: middle;\n",
       "    }\n",
       "\n",
       "    .dataframe tbody tr th {\n",
       "        vertical-align: top;\n",
       "    }\n",
       "\n",
       "    .dataframe thead th {\n",
       "        text-align: right;\n",
       "    }\n",
       "</style>\n",
       "<table border=\"1\" class=\"dataframe\">\n",
       "  <thead>\n",
       "    <tr style=\"text-align: right;\">\n",
       "      <th></th>\n",
       "      <th>v1</th>\n",
       "      <th>v2</th>\n",
       "      <th>Unnamed: 2</th>\n",
       "      <th>Unnamed: 3</th>\n",
       "      <th>Unnamed: 4</th>\n",
       "    </tr>\n",
       "  </thead>\n",
       "  <tbody>\n",
       "    <tr>\n",
       "      <td>0</td>\n",
       "      <td>ham</td>\n",
       "      <td>Go until jurong point, crazy.. Available only ...</td>\n",
       "      <td>NaN</td>\n",
       "      <td>NaN</td>\n",
       "      <td>NaN</td>\n",
       "    </tr>\n",
       "    <tr>\n",
       "      <td>1</td>\n",
       "      <td>ham</td>\n",
       "      <td>Ok lar... Joking wif u oni...</td>\n",
       "      <td>NaN</td>\n",
       "      <td>NaN</td>\n",
       "      <td>NaN</td>\n",
       "    </tr>\n",
       "    <tr>\n",
       "      <td>2</td>\n",
       "      <td>spam</td>\n",
       "      <td>Free entry in 2 a wkly comp to win FA Cup fina...</td>\n",
       "      <td>NaN</td>\n",
       "      <td>NaN</td>\n",
       "      <td>NaN</td>\n",
       "    </tr>\n",
       "    <tr>\n",
       "      <td>3</td>\n",
       "      <td>ham</td>\n",
       "      <td>U dun say so early hor... U c already then say...</td>\n",
       "      <td>NaN</td>\n",
       "      <td>NaN</td>\n",
       "      <td>NaN</td>\n",
       "    </tr>\n",
       "    <tr>\n",
       "      <td>4</td>\n",
       "      <td>ham</td>\n",
       "      <td>Nah I don't think he goes to usf, he lives aro...</td>\n",
       "      <td>NaN</td>\n",
       "      <td>NaN</td>\n",
       "      <td>NaN</td>\n",
       "    </tr>\n",
       "  </tbody>\n",
       "</table>\n",
       "</div>"
      ],
      "text/plain": [
       "     v1                                                 v2 Unnamed: 2  \\\n",
       "0   ham  Go until jurong point, crazy.. Available only ...        NaN   \n",
       "1   ham                      Ok lar... Joking wif u oni...        NaN   \n",
       "2  spam  Free entry in 2 a wkly comp to win FA Cup fina...        NaN   \n",
       "3   ham  U dun say so early hor... U c already then say...        NaN   \n",
       "4   ham  Nah I don't think he goes to usf, he lives aro...        NaN   \n",
       "\n",
       "  Unnamed: 3 Unnamed: 4  \n",
       "0        NaN        NaN  \n",
       "1        NaN        NaN  \n",
       "2        NaN        NaN  \n",
       "3        NaN        NaN  \n",
       "4        NaN        NaN  "
      ]
     },
     "execution_count": 3,
     "metadata": {},
     "output_type": "execute_result"
    }
   ],
   "source": [
    "df.head()"
   ]
  },
  {
   "cell_type": "code",
   "execution_count": 4,
   "metadata": {},
   "outputs": [],
   "source": [
    "df.drop(columns = ['Unnamed: 2', 'Unnamed: 3', 'Unnamed: 4'], axis = 1,\n",
    "       inplace = True)"
   ]
  },
  {
   "cell_type": "markdown",
   "metadata": {},
   "source": [
    "## Check Data Types\n",
    "\n",
    "Checking that every entry is non-null and a string."
   ]
  },
  {
   "cell_type": "code",
   "execution_count": 5,
   "metadata": {},
   "outputs": [
    {
     "name": "stdout",
     "output_type": "stream",
     "text": [
      "<class 'pandas.core.frame.DataFrame'>\n",
      "RangeIndex: 5572 entries, 0 to 5571\n",
      "Data columns (total 2 columns):\n",
      "v1    5572 non-null object\n",
      "v2    5572 non-null object\n",
      "dtypes: object(2)\n",
      "memory usage: 87.2+ KB\n",
      "None \n",
      "\n",
      "\n",
      "v1    0\n",
      "v2    0\n",
      "dtype: int64\n"
     ]
    }
   ],
   "source": [
    "print(df.info(), \"\\n\\n\")\n",
    "print(df.isna().sum())"
   ]
  },
  {
   "cell_type": "markdown",
   "metadata": {},
   "source": [
    "Everything looks good to go."
   ]
  },
  {
   "cell_type": "markdown",
   "metadata": {},
   "source": [
    "# Prepare Data For Modeling\n",
    "\n",
    "## Prepare Email Message Content\n",
    "\n",
    "Since the data is strings made of space-separated words, we need to first tokenize it. This gives us lists of integers corresponding to words-in-order. These lists are turned into arrays and padded, so that they are uniform in length."
   ]
  },
  {
   "cell_type": "code",
   "execution_count": 6,
   "metadata": {},
   "outputs": [
    {
     "data": {
      "text/plain": [
       "\"Free entry in 2 a wkly comp to win FA Cup final tkts 21st May 2005. Text FA to 87121 to receive entry question(std txt rate)T&C's apply 08452810075over18's\""
      ]
     },
     "execution_count": 6,
     "metadata": {},
     "output_type": "execute_result"
    }
   ],
   "source": [
    "# Example in\n",
    "df['v2'][2]"
   ]
  },
  {
   "cell_type": "code",
   "execution_count": 7,
   "metadata": {},
   "outputs": [],
   "source": [
    "# Instantiate and fit a Tokenizer on the messages\n",
    "tokenizer = Tokenizer()\n",
    "tokenizer.fit_on_texts(df['v2'])\n",
    "X = tokenizer.texts_to_sequences(df['v2'])\n",
    "X = np.array(X)\n",
    "X = pad_sequences(X, maxlen=100)\n",
    "with open('../models/tokenizer_UCIML.pickle', 'wb') as f:\n",
    "    pickle.dump(tokenizer, f, protocol=pickle.HIGHEST_PROTOCOL)"
   ]
  },
  {
   "cell_type": "code",
   "execution_count": 8,
   "metadata": {
    "scrolled": true
   },
   "outputs": [
    {
     "name": "stdout",
     "output_type": "stream",
     "text": [
      "[   0    0    0    0    0    0    0    0    0    0    0    0    0    0\n",
      "    0    0    0    0    0    0    0    0    0    0    0    0    0    0\n",
      "    0    0    0    0    0    0    0    0    0    0    0    0    0    0\n",
      "    0    0    0    0    0    0    0    0    0    0    0    0    0    0\n",
      "    0    0    0    0    0    0    0    0    0    0    0  797  127   67\n",
      " 1683  145  108  160 1934   21    7   38  338   87  900   55  115  411\n",
      "    3   44   12   14   85 1935   46  380  955 4412    2   68  322  230\n",
      "    2 2990]\n"
     ]
    }
   ],
   "source": [
    "# Example out\n",
    "print(X[5])"
   ]
  },
  {
   "cell_type": "markdown",
   "metadata": {},
   "source": [
    "## Prepare Email Labels\n",
    "\n",
    "Printed below is an example (read: reminder) that we just have two categories here. They will be converted to integers and then to categoricals, i.e. `\"Non-Spam\"` --> `0` --> `[1, 0]` and vice versa."
   ]
  },
  {
   "cell_type": "code",
   "execution_count": 9,
   "metadata": {},
   "outputs": [
    {
     "data": {
      "text/plain": [
       "0     ham\n",
       "1     ham\n",
       "2    spam\n",
       "3     ham\n",
       "4     ham\n",
       "5    spam\n",
       "Name: v1, dtype: object"
      ]
     },
     "execution_count": 9,
     "metadata": {},
     "output_type": "execute_result"
    }
   ],
   "source": [
    "# Label example\n",
    "df['v1'].head(6)"
   ]
  },
  {
   "cell_type": "code",
   "execution_count": 10,
   "metadata": {},
   "outputs": [],
   "source": [
    "# Define int replacements\n",
    "label_dict = {\"ham\": 0, \"spam\": 1}\n",
    "\n",
    "# Replace labels with int and pass to to_categorical()\n",
    "y = keras.utils.to_categorical([label_dict[label] for label in df['v1']])"
   ]
  },
  {
   "cell_type": "code",
   "execution_count": 11,
   "metadata": {},
   "outputs": [
    {
     "name": "stdout",
     "output_type": "stream",
     "text": [
      "[[1. 0.]\n",
      " [1. 0.]\n",
      " [0. 1.]\n",
      " [1. 0.]\n",
      " [1. 0.]\n",
      " [0. 1.]]\n"
     ]
    }
   ],
   "source": [
    "# Finished example, matches above\n",
    "print(y[0:6])"
   ]
  },
  {
   "cell_type": "markdown",
   "metadata": {},
   "source": [
    "## Test Train Split"
   ]
  },
  {
   "cell_type": "code",
   "execution_count": 12,
   "metadata": {},
   "outputs": [],
   "source": [
    "X_train, X_test, y_train, y_test = train_test_split(X, y, test_size=0.2, random_state=0)"
   ]
  },
  {
   "cell_type": "markdown",
   "metadata": {},
   "source": [
    "We now have our `X_train`, `X_test`, `y_train`, and `y_test` ready and can begin modeling."
   ]
  },
  {
   "cell_type": "markdown",
   "metadata": {},
   "source": [
    "# Baseline Model\n",
    "\n",
    "This model has about 4x the vocabulary size as the *original* baseline (in `data_cleaning_and_modeling.ipynb` in the directory above this one). Expecting lower performance."
   ]
  },
  {
   "cell_type": "code",
   "execution_count": 13,
   "metadata": {},
   "outputs": [
    {
     "data": {
      "text/plain": [
       "15585"
      ]
     },
     "execution_count": 13,
     "metadata": {},
     "output_type": "execute_result"
    }
   ],
   "source": [
    "all_words = df['v2'].str.split() \n",
    "total_vocab = set(word for text in all_words for word in text)\n",
    "len(total_vocab)"
   ]
  },
  {
   "cell_type": "code",
   "execution_count": 14,
   "metadata": {},
   "outputs": [
    {
     "name": "stdout",
     "output_type": "stream",
     "text": [
      "Train on 3565 samples, validate on 892 samples\n",
      "Epoch 1/20\n",
      "3565/3565 [==============================] - 14s 4ms/step - loss: 0.3653 - acc: 0.8746 - val_loss: 0.1583 - val_acc: 0.9383\n",
      "Epoch 2/20\n",
      "3565/3565 [==============================] - 13s 4ms/step - loss: 0.0606 - acc: 0.9863 - val_loss: 0.0549 - val_acc: 0.9865\n",
      "Epoch 3/20\n",
      "3565/3565 [==============================] - 13s 4ms/step - loss: 0.0141 - acc: 0.9961 - val_loss: 0.0489 - val_acc: 0.9888\n",
      "Epoch 4/20\n",
      "3565/3565 [==============================] - 13s 4ms/step - loss: 0.0057 - acc: 0.9986 - val_loss: 0.0551 - val_acc: 0.9877\n",
      "Epoch 5/20\n",
      "3565/3565 [==============================] - 13s 4ms/step - loss: 0.0026 - acc: 0.9997 - val_loss: 0.0625 - val_acc: 0.9865\n",
      "Epoch 6/20\n",
      "3565/3565 [==============================] - 13s 4ms/step - loss: 0.0019 - acc: 0.9997 - val_loss: 0.0655 - val_acc: 0.9865\n",
      "Epoch 7/20\n",
      "3565/3565 [==============================] - 14s 4ms/step - loss: 0.0017 - acc: 0.9997 - val_loss: 0.0702 - val_acc: 0.9865\n",
      "Epoch 8/20\n",
      "3565/3565 [==============================] - 13s 4ms/step - loss: 0.0015 - acc: 0.9997 - val_loss: 0.0695 - val_acc: 0.9865\n",
      "Epoch 9/20\n",
      "3565/3565 [==============================] - 13s 4ms/step - loss: 0.0014 - acc: 0.9997 - val_loss: 0.0758 - val_acc: 0.9854\n",
      "Epoch 10/20\n",
      "3565/3565 [==============================] - 13s 4ms/step - loss: 6.2804e-04 - acc: 0.9997 - val_loss: 0.0771 - val_acc: 0.9865\n",
      "Epoch 11/20\n",
      "3565/3565 [==============================] - 13s 4ms/step - loss: 2.6010e-04 - acc: 1.0000 - val_loss: 0.0807 - val_acc: 0.9865\n",
      "Epoch 12/20\n",
      "3565/3565 [==============================] - 13s 4ms/step - loss: 2.0129e-04 - acc: 1.0000 - val_loss: 0.0822 - val_acc: 0.9865\n",
      "Epoch 13/20\n",
      "3565/3565 [==============================] - 13s 4ms/step - loss: 1.6458e-04 - acc: 1.0000 - val_loss: 0.0841 - val_acc: 0.9865\n",
      "Epoch 14/20\n",
      "3565/3565 [==============================] - 13s 4ms/step - loss: 1.3790e-04 - acc: 1.0000 - val_loss: 0.0852 - val_acc: 0.9865\n",
      "Epoch 15/20\n",
      "3565/3565 [==============================] - 13s 4ms/step - loss: 1.1730e-04 - acc: 1.0000 - val_loss: 0.0866 - val_acc: 0.9865\n",
      "Epoch 16/20\n",
      "3565/3565 [==============================] - 13s 4ms/step - loss: 1.0124e-04 - acc: 1.0000 - val_loss: 0.0881 - val_acc: 0.9865\n",
      "Epoch 17/20\n",
      "3565/3565 [==============================] - 13s 4ms/step - loss: 8.8285e-05 - acc: 1.0000 - val_loss: 0.0892 - val_acc: 0.9865\n",
      "Epoch 18/20\n",
      "3565/3565 [==============================] - 14s 4ms/step - loss: 7.7426e-05 - acc: 1.0000 - val_loss: 0.0903 - val_acc: 0.9854\n",
      "Epoch 19/20\n",
      "3565/3565 [==============================] - 14s 4ms/step - loss: 6.8549e-05 - acc: 1.0000 - val_loss: 0.0915 - val_acc: 0.9854\n",
      "Epoch 20/20\n",
      "3565/3565 [==============================] - 14s 4ms/step - loss: 6.0770e-05 - acc: 1.0000 - val_loss: 0.0925 - val_acc: 0.9854\n"
     ]
    }
   ],
   "source": [
    "# Instantiate model\n",
    "base_model = Sequential()\n",
    "\n",
    "# Add model layers based on above rationale\n",
    "base_model.add(Embedding(len(total_vocab), 100))\n",
    "base_model.add(LSTM(8, return_sequences=True))\n",
    "base_model.add(GlobalMaxPool1D())\n",
    "base_model.add(Dense(25, activation='tanh'))\n",
    "base_model.add(Dense(2, activation='softmax'))\n",
    "\n",
    "# Compile model\n",
    "base_model.compile(loss='categorical_crossentropy',\n",
    "                   optimizer='Adam',\n",
    "                   metrics=['accuracy'])\n",
    "\n",
    "# Fit model and store results\n",
    "base_results = base_model.fit(X_train, y_train,\n",
    "                              epochs=20, batch_size=30,\n",
    "                              validation_split=0.2)"
   ]
  },
  {
   "cell_type": "code",
   "execution_count": 15,
   "metadata": {},
   "outputs": [],
   "source": [
    "# Helper function to visualize model performance over training\n",
    "def visualize_training_results(results):\n",
    "    history = results.history\n",
    "    plt.figure()\n",
    "    plt.plot(history['val_loss'])\n",
    "    plt.plot(history['loss'])\n",
    "    plt.legend(['val_loss', 'loss'])\n",
    "    plt.title('Loss')\n",
    "    plt.xlabel('Epochs')\n",
    "    plt.ylabel('Loss')\n",
    "    plt.show()\n",
    "    \n",
    "    plt.figure()\n",
    "    plt.plot(history['val_acc'])\n",
    "    plt.plot(history['acc'])\n",
    "    plt.legend(['val_acc', 'acc'])\n",
    "    plt.title('Accuracy')\n",
    "    plt.xlabel('Epochs')\n",
    "    plt.ylabel('Accuracy')\n",
    "    plt.show()"
   ]
  },
  {
   "cell_type": "code",
   "execution_count": 16,
   "metadata": {},
   "outputs": [
    {
     "data": {
      "image/png": "[encoded data removed]",
      "text/plain": [
       "<Figure size 432x288 with 1 Axes>"
      ]
     },
     "metadata": {
      "needs_background": "light"
     },
     "output_type": "display_data"
    },
    {
     "data": {
      "image/png": "[encoded data removed]",
      "text/plain": [
       "<Figure size 432x288 with 1 Axes>"
      ]
     },
     "metadata": {
      "needs_background": "light"
     },
     "output_type": "display_data"
    }
   ],
   "source": [
    "# Visualize baseline model performance\n",
    "visualize_training_results(base_results)"
   ]
  },
  {
   "cell_type": "markdown",
   "metadata": {},
   "source": [
    "Again, I'm pleasantly surprised. This model converged extremely quickly, and to a fairly high level of accuracy, 100% for the training and 98.54% for the validation set. For now, I'm offloading this model for persistence sake, but will be training a few more models to see if we can:\n",
    "- Reduce complexity\n",
    "- Increase `val_acc`"
   ]
  },
  {
   "cell_type": "code",
   "execution_count": 45,
   "metadata": {},
   "outputs": [],
   "source": [
    "# Save the trained model\n",
    "base_model.save('../models/UCIML_base_model')"
   ]
  }
 ],
 "metadata": {
  "kernelspec": {
   "display_name": "Python 3",
   "language": "python",
   "name": "python3"
  },
  "language_info": {
   "codemirror_mode": {
    "name": "ipython",
    "version": 3
   },
   "file_extension": ".py",
   "mimetype": "text/x-python",
   "name": "python",
   "nbconvert_exporter": "python",
   "pygments_lexer": "ipython3",
   "version": "3.6.9"
  },
  "toc": {
   "base_numbering": 1,
   "nav_menu": {},
   "number_sections": true,
   "sideBar": true,
   "skip_h1_title": false,
   "title_cell": "Table of Contents",
   "title_sidebar": "Contents",
   "toc_cell": false,
   "toc_position": {},
   "toc_section_display": true,
   "toc_window_display": false
  },
  "varInspector": {
   "cols": {
    "lenName": 16,
    "lenType": 16,
    "lenVar": 40
   },
   "kernels_config": {
    "python": {
     "delete_cmd_postfix": "",
     "delete_cmd_prefix": "del ",
     "library": "var_list.py",
     "varRefreshCmd": "print(var_dic_list())"
    },
    "r": {
     "delete_cmd_postfix": ") ",
     "delete_cmd_prefix": "rm(",
     "library": "var_list.r",
     "varRefreshCmd": "cat(var_dic_list()) "
    }
   },
   "types_to_exclude": [
    "module",
    "function",
    "builtin_function_or_method",
    "instance",
    "_Feature"
   ],
   "window_display": false
  }
 },
 "nbformat": 4,
 "nbformat_minor": 4
}
